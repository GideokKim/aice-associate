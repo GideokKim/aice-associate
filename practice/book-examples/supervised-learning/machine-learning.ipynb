{
 "cells": [
  {
   "attachments": {},
   "cell_type": "markdown",
   "metadata": {},
   "source": [
    "# SECTION 01. 머신러닝으로 AI 모델링하기"
   ]
  },
  {
   "attachments": {},
   "cell_type": "markdown",
   "metadata": {},
   "source": [
    "## 2. 선형회귀(Linear Regression) "
   ]
  },
  {
   "cell_type": "markdown",
   "metadata": {},
   "source": [
    "### 2)  선형회귀 실습하기"
   ]
  },
  {
   "cell_type": "markdown",
   "metadata": {},
   "source": [
    "#### (1) 데이터 구성하기"
   ]
  },
  {
   "cell_type": "code",
   "execution_count": 1,
   "metadata": {
    "ExecuteTime": {
     "end_time": "2023-05-04T07:44:17.329131Z",
     "start_time": "2023-05-04T07:44:16.878497Z"
    }
   },
   "outputs": [],
   "source": [
    "# 라이브러리 불러오기 (numpy, matplotlib)\n",
    "import numpy as np\n",
    "import matplotlib.pyplot as plt\n",
    "\n",
    "# 렌덤 시드 고정\n",
    "np.random.seed(2023)"
   ]
  },
  {
   "cell_type": "code",
   "execution_count": 2,
   "metadata": {
    "ExecuteTime": {
     "end_time": "2023-05-04T07:44:18.060789Z",
     "start_time": "2023-05-04T07:44:18.048800Z"
    }
   },
   "outputs": [],
   "source": [
    "# x는 1~10, y = 4*x+7인 학습 데이터 생성하기\n",
    "x = []\n",
    "y = []\n",
    "for i in range(1,11): \n",
    "    x.append(i)\n",
    "    y.append(4*i+7)"
   ]
  },
  {
   "cell_type": "code",
   "execution_count": null,
   "metadata": {
    "ExecuteTime": {
     "end_time": "2023-05-04T07:44:18.581181Z",
     "start_time": "2023-05-04T07:44:18.565919Z"
    }
   },
   "outputs": [],
   "source": [
    "# 데이터 확인하기\n",
    "print('x : ', x) \n",
    "print('y : ', y) "
   ]
  },
  {
   "cell_type": "markdown",
   "metadata": {},
   "source": [
    "#### (2) 선형회귀 학습 하기"
   ]
  },
  {
   "cell_type": "code",
   "execution_count": 4,
   "metadata": {
    "ExecuteTime": {
     "end_time": "2023-05-04T07:44:21.257340Z",
     "start_time": "2023-05-04T07:44:19.714621Z"
    }
   },
   "outputs": [],
   "source": [
    "# 선형회귀 라이브러리 불러오기\n",
    "from sklearn.linear_model import LinearRegression\n",
    "# 선형회귀 생성하기\n",
    "reg = LinearRegression()"
   ]
  },
  {
   "cell_type": "code",
   "execution_count": null,
   "metadata": {
    "ExecuteTime": {
     "end_time": "2023-05-04T07:44:23.314984Z",
     "start_time": "2023-05-04T07:44:23.298595Z"
    }
   },
   "outputs": [],
   "source": [
    "# 학습을 위해 1행10열 구성 데이터를 10행 1열로 변경하기\n",
    "x = np.array(x).reshape(-1, 1)\n",
    "# 데이터 확인하기\n",
    "print(\"학습 데이터 확인\")\n",
    "print('x :' ,x)\n",
    "print('x.shape : ', x.shape)"
   ]
  },
  {
   "cell_type": "code",
   "execution_count": null,
   "metadata": {
    "ExecuteTime": {
     "end_time": "2023-05-04T07:44:24.122195Z",
     "start_time": "2023-05-04T07:44:24.088474Z"
    }
   },
   "outputs": [],
   "source": [
    "# 학습하기\n",
    "reg.fit(x,y)"
   ]
  },
  {
   "cell_type": "code",
   "execution_count": null,
   "metadata": {
    "ExecuteTime": {
     "end_time": "2023-05-04T07:44:24.929180Z",
     "start_time": "2023-05-04T07:44:24.907959Z"
    }
   },
   "outputs": [],
   "source": [
    "# 산식 추정을 위한 기울기(coef) 및 절편(intercept) 확인하기\n",
    "print(f'''기울기 및 절편 확인 coef = {reg.coef_}, intercept = {reg.intercept_} ''')"
   ]
  },
  {
   "cell_type": "code",
   "execution_count": null,
   "metadata": {
    "ExecuteTime": {
     "end_time": "2023-05-04T07:44:25.690626Z",
     "start_time": "2023-05-04T07:44:25.667002Z"
    }
   },
   "outputs": [],
   "source": [
    "# 절편과 기울기로 결과를 수동 계산하여 비교값 생성하기\n",
    "coef_intercept = x * reg.coef_[0] + reg.intercept_\n",
    "print(\"계산 결과\")\n",
    "print(coef_intercept)"
   ]
  },
  {
   "cell_type": "markdown",
   "metadata": {},
   "source": [
    "#### (3) 결과 비교를 위해 그래프 그리기"
   ]
  },
  {
   "cell_type": "code",
   "execution_count": null,
   "metadata": {
    "ExecuteTime": {
     "end_time": "2023-05-04T07:44:27.786977Z",
     "start_time": "2023-05-04T07:44:27.365974Z"
    }
   },
   "outputs": [],
   "source": [
    "# scatter plot 그래프그리기\n",
    "plt.scatter(x, y, color = 'r', s = 20)\n",
    "# 선 그래프 그리기\n",
    "plt.plot(x, coef_intercept, color = 'orange')\n",
    "# coef 값 그래프 내에 텍스트 삽입하기\n",
    "plt.text(7, 20, 'coef = %.0f'%reg.coef_[0], size = 12)\n",
    "# intercept 값 그래프 내에 텍스트 삽입하기\n",
    "plt.text(7, 18, 'intercept_ = %.0f'%reg.intercept_, size = 12)\n",
    "# x축(가로) label 설정하기\n",
    "plt.xlabel('x')\n",
    "# y축(세로) label 설정하기\n",
    "plt.ylabel('y')\n",
    "plt.show()"
   ]
  },
  {
   "cell_type": "markdown",
   "metadata": {},
   "source": [
    "### 3) 사례기반 선형회귀 모델링"
   ]
  },
  {
   "cell_type": "markdown",
   "metadata": {},
   "source": [
    "#### (1) 데이터 전처리하기"
   ]
  },
  {
   "cell_type": "code",
   "execution_count": 10,
   "metadata": {
    "ExecuteTime": {
     "end_time": "2023-05-04T07:44:30.305809Z",
     "start_time": "2023-05-04T07:44:29.307134Z"
    }
   },
   "outputs": [],
   "source": [
    "# 판다스 라이브러리 불러오기\n",
    "import pandas as pd "
   ]
  },
  {
   "cell_type": "code",
   "execution_count": 11,
   "metadata": {
    "ExecuteTime": {
     "end_time": "2023-05-04T07:44:35.789023Z",
     "start_time": "2023-05-04T07:44:30.994841Z"
    }
   },
   "outputs": [],
   "source": [
    "# 데이터 불러오기\n",
    "df = pd.read_csv(\"국민건강보험공단_건강검진정보_20211229.CSV\", encoding='cp949')"
   ]
  },
  {
   "cell_type": "code",
   "execution_count": 12,
   "metadata": {
    "ExecuteTime": {
     "end_time": "2023-05-04T07:44:37.432183Z",
     "start_time": "2023-05-04T07:44:37.423562Z"
    }
   },
   "outputs": [],
   "source": [
    "# pandas display 옵션 조정을 통해 View 범위 확장하기\n",
    "pd.set_option('display.max_columns', None) # display 옵션을 통한 전체 열 확장"
   ]
  },
  {
   "cell_type": "code",
   "execution_count": null,
   "metadata": {
    "ExecuteTime": {
     "end_time": "2023-05-04T07:44:38.027852Z",
     "start_time": "2023-05-04T07:44:37.942406Z"
    }
   },
   "outputs": [],
   "source": [
    "# 데이터 확인하기 (상위 5개)\n",
    "df.head()"
   ]
  },
  {
   "cell_type": "code",
   "execution_count": 14,
   "metadata": {
    "ExecuteTime": {
     "end_time": "2023-05-04T07:44:39.106959Z",
     "start_time": "2023-05-04T07:44:38.954678Z"
    }
   },
   "outputs": [],
   "source": [
    "# 가설을 참고하여 데이터 일부 삭제하기 \n",
    "# 시력, 청력, 치아 관련 칼럼은 관계없다는 가정으로 열 제거하기\n",
    "df.drop([\"치아우식증유무\", '치석','시력(좌)', '시력(우)', '청력(좌)',  '청력(우)', '구강검진 수검여부'], axis=1, inplace=True)"
   ]
  },
  {
   "cell_type": "code",
   "execution_count": null,
   "metadata": {
    "ExecuteTime": {
     "end_time": "2023-05-04T07:44:39.536909Z",
     "start_time": "2023-05-04T07:44:39.489988Z"
    }
   },
   "outputs": [],
   "source": [
    "# 기준년도 칼럼 확인하기 (모두 '2020' 동일 값이므로 '기준년도' 칼럼 삭제)\n",
    "print(\"기준년도 칼럼 확인\")\n",
    "df.기준년도.value_counts() "
   ]
  },
  {
   "cell_type": "code",
   "execution_count": null,
   "metadata": {
    "ExecuteTime": {
     "end_time": "2023-05-04T07:44:40.282717Z",
     "start_time": "2023-05-04T07:44:40.073790Z"
    }
   },
   "outputs": [],
   "source": [
    "# 가입자 일련번호 칼럼 확인하기 (모두 unique한 값으로 확인되어 '가입자 일련번호' 컬럼 삭제)\n",
    "print(\"가입자 일련번호 칼럼 확인\")\n",
    "df[\"가입자 일련번호\"].value_counts() "
   ]
  },
  {
   "cell_type": "code",
   "execution_count": null,
   "metadata": {
    "ExecuteTime": {
     "end_time": "2023-05-04T07:44:40.785893Z",
     "start_time": "2023-05-04T07:44:40.740479Z"
    }
   },
   "outputs": [],
   "source": [
    "# 성별코드 칼럼 확인하기\n",
    "print(\"성별코드 칼럼 확인\")\n",
    "df.성별코드.value_counts()"
   ]
  },
  {
   "cell_type": "code",
   "execution_count": 18,
   "metadata": {
    "ExecuteTime": {
     "end_time": "2023-05-04T07:44:41.615931Z",
     "start_time": "2023-05-04T07:44:41.474817Z"
    }
   },
   "outputs": [],
   "source": [
    "# 불필요한 데이터 삭제하기\n",
    "df.drop([\"기준년도\", '가입자 일련번호', '데이터 공개일자', '성별코드', '시도코드'], axis=1, inplace=True)"
   ]
  },
  {
   "cell_type": "code",
   "execution_count": 19,
   "metadata": {
    "ExecuteTime": {
     "end_time": "2023-05-04T07:44:42.287014Z",
     "start_time": "2023-05-04T07:44:42.191505Z"
    }
   },
   "outputs": [],
   "source": [
    "# 별도의 test 데이터 추출하기\n",
    "test = df[df['LDL 콜레스테롤'].isnull()]"
   ]
  },
  {
   "cell_type": "code",
   "execution_count": 20,
   "metadata": {
    "ExecuteTime": {
     "end_time": "2023-05-04T07:44:42.898305Z",
     "start_time": "2023-05-04T07:44:42.764566Z"
    }
   },
   "outputs": [],
   "source": [
    "# NaN 데이터 행 단위로 삭제하기\n",
    "train = df.dropna(axis=0)"
   ]
  },
  {
   "cell_type": "code",
   "execution_count": null,
   "metadata": {
    "ExecuteTime": {
     "end_time": "2023-05-04T07:44:43.406005Z",
     "start_time": "2023-05-04T07:44:43.358203Z"
    }
   },
   "outputs": [],
   "source": [
    "# 학습 데이터 확인하기\n",
    "print(\"학습 데이터 확인\")\n",
    "train.head(1)"
   ]
  },
  {
   "cell_type": "code",
   "execution_count": 22,
   "metadata": {
    "ExecuteTime": {
     "end_time": "2023-05-04T07:44:44.062949Z",
     "start_time": "2023-05-04T07:44:44.045434Z"
    }
   },
   "outputs": [],
   "source": [
    "# 정답 데이터 생성하기\n",
    "y = train['LDL 콜레스테롤']"
   ]
  },
  {
   "cell_type": "code",
   "execution_count": 23,
   "metadata": {
    "ExecuteTime": {
     "end_time": "2023-05-04T07:44:44.767348Z",
     "start_time": "2023-05-04T07:44:44.731294Z"
    }
   },
   "outputs": [],
   "source": [
    "# 학습 데이터 생성하기\n",
    "x = train.drop('LDL 콜레스테롤', axis=1)"
   ]
  },
  {
   "cell_type": "code",
   "execution_count": 24,
   "metadata": {
    "ExecuteTime": {
     "end_time": "2023-05-04T07:44:45.363659Z",
     "start_time": "2023-05-04T07:44:45.346000Z"
    }
   },
   "outputs": [],
   "source": [
    "# validation set 추출을 위한 train_test_split 라이브러리 불러오기\n",
    "from sklearn.model_selection import train_test_split"
   ]
  },
  {
   "cell_type": "code",
   "execution_count": 25,
   "metadata": {
    "ExecuteTime": {
     "end_time": "2023-05-04T07:44:46.147364Z",
     "start_time": "2023-05-04T07:44:45.965152Z"
    }
   },
   "outputs": [],
   "source": [
    "# scikit learn 예시 코드 비율 대로 불러오기\n",
    "X_train, X_test, y_train, y_test = train_test_split(\n",
    "    x, y, test_size=0.33, random_state=42)"
   ]
  },
  {
   "cell_type": "code",
   "execution_count": null,
   "metadata": {
    "ExecuteTime": {
     "end_time": "2023-05-04T07:44:47.092682Z",
     "start_time": "2023-05-04T07:44:47.072624Z"
    }
   },
   "outputs": [],
   "source": [
    "# 학습/검증 데이터 확인하기\n",
    "print(\"학습/검증 데이터 확인\")\n",
    "print(X_train.shape, y_train.shape, X_test.shape, y_test.shape)"
   ]
  },
  {
   "cell_type": "markdown",
   "metadata": {},
   "source": [
    "#### (2) 선형회귀 학습 및 추론하기"
   ]
  },
  {
   "cell_type": "code",
   "execution_count": null,
   "metadata": {
    "ExecuteTime": {
     "end_time": "2023-05-04T07:44:48.727001Z",
     "start_time": "2023-05-04T07:44:48.362633Z"
    }
   },
   "outputs": [],
   "source": [
    "# 라이브러리 불러오기\n",
    "from sklearn.linear_model import LinearRegression\n",
    "# 모델 생성하기\n",
    "reg = LinearRegression()\n",
    "# 학습하기\n",
    "reg.fit(X_train,y_train)"
   ]
  },
  {
   "cell_type": "code",
   "execution_count": null,
   "metadata": {
    "ExecuteTime": {
     "end_time": "2023-05-04T07:44:49.228940Z",
     "start_time": "2023-05-04T07:44:49.210241Z"
    }
   },
   "outputs": [],
   "source": [
    "# 기울기와 절편 확인하기\n",
    "print(f'''기울기 및 절편 확인 \n",
    "기울기확인 coef = {reg.coef_}\n",
    "절편확인 intercept = {reg.intercept_}''')"
   ]
  },
  {
   "cell_type": "code",
   "execution_count": null,
   "metadata": {
    "ExecuteTime": {
     "end_time": "2023-05-04T07:44:49.958476Z",
     "start_time": "2023-05-04T07:44:49.938727Z"
    }
   },
   "outputs": [],
   "source": [
    "# 각각 데이터에 대해 가중치(or 회귀계수) 확인하기\n",
    "print(\"전체에 대해서 가중치 확인\")\n",
    "for index ,columns in enumerate(X_train.columns):\n",
    "    print(f\"{columns} = {reg.coef_[index]}\")"
   ]
  },
  {
   "cell_type": "markdown",
   "metadata": {},
   "source": [
    "#### (3) 예측을 통한 최종 검증하기"
   ]
  },
  {
   "cell_type": "code",
   "execution_count": 30,
   "metadata": {
    "ExecuteTime": {
     "end_time": "2023-05-04T07:44:53.290277Z",
     "start_time": "2023-05-04T07:44:53.252530Z"
    }
   },
   "outputs": [],
   "source": [
    "# 예측하기\n",
    "y_pred = reg.predict(X_test)"
   ]
  },
  {
   "cell_type": "code",
   "execution_count": 34,
   "metadata": {
    "ExecuteTime": {
     "end_time": "2023-05-04T07:44:53.824089Z",
     "start_time": "2023-05-04T07:44:53.816061Z"
    }
   },
   "outputs": [],
   "source": [
    "# 결과 검증을 위해 MSE 라이브러리 불러오기\n",
    "# 최종적으로는 RMSE를 사용하기\n",
    "from sklearn.metrics import mean_squared_error, root_mean_squared_error"
   ]
  },
  {
   "cell_type": "code",
   "execution_count": null,
   "metadata": {
    "ExecuteTime": {
     "end_time": "2023-05-04T07:44:54.278914Z",
     "start_time": "2023-05-04T07:44:54.261136Z"
    }
   },
   "outputs": [],
   "source": [
    "# mse 라이브러리 에서 RMSE 는 squared 옵션을 False로 설정하기\n",
    "# squared 옵션은 scikit-learn 1.4 버전에서 deprecated 되었음.\n",
    "# rmse = mean_squared_error(y_test, y_pred, squared=False)\n",
    "rmse = root_mean_squared_error(y_test, y_pred)"
   ]
  },
  {
   "cell_type": "code",
   "execution_count": null,
   "metadata": {
    "ExecuteTime": {
     "end_time": "2023-05-04T07:44:54.861533Z",
     "start_time": "2023-05-04T07:44:54.835118Z"
    }
   },
   "outputs": [],
   "source": [
    "# 주요 Feature 삭제 전 rmse 확인하기\n",
    "print(f'''주요 Feature 삭제 전 rmse = {round(rmse,3)}''')"
   ]
  },
  {
   "cell_type": "markdown",
   "metadata": {},
   "source": [
    "#### (4) 가중치의 의미 확인하기"
   ]
  },
  {
   "cell_type": "code",
   "execution_count": null,
   "metadata": {
    "ExecuteTime": {
     "end_time": "2023-05-04T07:44:55.916252Z",
     "start_time": "2023-05-04T07:44:55.899533Z"
    }
   },
   "outputs": [],
   "source": [
    "# 주요 Feature 삭제를 위해 칼럼명 재확인하기\n",
    "train.columns"
   ]
  },
  {
   "cell_type": "code",
   "execution_count": 38,
   "metadata": {
    "ExecuteTime": {
     "end_time": "2023-05-04T07:44:56.511782Z",
     "start_time": "2023-05-04T07:44:56.468799Z"
    }
   },
   "outputs": [],
   "source": [
    "# 주요 Feature 삭제하기\n",
    "x = x.drop(['총 콜레스테롤', '트리글리세라이드', 'HDL 콜레스테롤'],axis = 1)"
   ]
  },
  {
   "cell_type": "code",
   "execution_count": 39,
   "metadata": {
    "ExecuteTime": {
     "end_time": "2023-05-04T07:44:57.152664Z",
     "start_time": "2023-05-04T07:44:56.979916Z"
    }
   },
   "outputs": [],
   "source": [
    "# scikit learn 예시 코드 비율 대로 불러오기\n",
    "X_train, X_test, y_train, y_test = train_test_split(\n",
    "    x, y, test_size=0.33, random_state=42)"
   ]
  },
  {
   "cell_type": "markdown",
   "metadata": {},
   "source": [
    "#### (5) 선형회귀 모델 재학습하기"
   ]
  },
  {
   "cell_type": "code",
   "execution_count": null,
   "metadata": {
    "ExecuteTime": {
     "end_time": "2023-05-04T07:44:58.794664Z",
     "start_time": "2023-05-04T07:44:58.439863Z"
    }
   },
   "outputs": [],
   "source": [
    "# 선형회귀 재생성 및 학습하기\n",
    "lr = LinearRegression()\n",
    "lr.fit(X_train,y_train)"
   ]
  },
  {
   "cell_type": "code",
   "execution_count": null,
   "metadata": {
    "ExecuteTime": {
     "end_time": "2023-05-04T07:44:59.588832Z",
     "start_time": "2023-05-04T07:44:59.568559Z"
    }
   },
   "outputs": [],
   "source": [
    "# 각각 데이터에 대해 가중치(or 회귀계수) 확인하기\n",
    "print(f'''coef\n",
    "{lr.coef_}\n",
    "intercept\n",
    "{lr.intercept_}''')"
   ]
  },
  {
   "cell_type": "markdown",
   "metadata": {},
   "source": [
    "#### (6) 가중치 비교하기"
   ]
  },
  {
   "cell_type": "code",
   "execution_count": 42,
   "metadata": {
    "ExecuteTime": {
     "end_time": "2023-05-04T07:45:00.780169Z",
     "start_time": "2023-05-04T07:45:00.751585Z"
    }
   },
   "outputs": [],
   "source": [
    "# 검증 데이터로 예측하기\n",
    "y_pred = lr.predict(X_test)"
   ]
  },
  {
   "cell_type": "code",
   "execution_count": null,
   "metadata": {
    "ExecuteTime": {
     "end_time": "2023-05-04T07:45:01.644714Z",
     "start_time": "2023-05-04T07:45:01.626253Z"
    }
   },
   "outputs": [],
   "source": [
    "# 각각 데이터에 대해 가중치(또는 회귀계수) 확인하기\n",
    "print(\"가중치 확인\")\n",
    "for index ,columns in enumerate(X_train.columns):\n",
    "    print(f\"{columns} = {reg.coef_[index]}\")"
   ]
  },
  {
   "cell_type": "code",
   "execution_count": 44,
   "metadata": {
    "ExecuteTime": {
     "end_time": "2023-05-04T07:45:02.255556Z",
     "start_time": "2023-05-04T07:45:02.236649Z"
    }
   },
   "outputs": [],
   "source": [
    "# 주요 Feature 삭제 후 RMSE 확인하기\n",
    "rmse_2 = root_mean_squared_error(y_test, y_pred)"
   ]
  },
  {
   "cell_type": "code",
   "execution_count": null,
   "metadata": {
    "ExecuteTime": {
     "end_time": "2023-05-04T07:45:02.772403Z",
     "start_time": "2023-05-04T07:45:02.755297Z"
    }
   },
   "outputs": [],
   "source": [
    "# 가중치가 큰 특성을 삭제 했을 때 영향을 많이 받는지 확인하기\n",
    "print(f'''주요 Feature 삭제 후 rmse = {round(rmse_2,3)}''')"
   ]
  },
  {
   "attachments": {},
   "cell_type": "markdown",
   "metadata": {},
   "source": [
    "## 3. 로지스틱 회귀(Logistic Regression)"
   ]
  },
  {
   "cell_type": "markdown",
   "metadata": {},
   "source": [
    "### 1) 로지스틱 회귀 이해하기"
   ]
  },
  {
   "cell_type": "markdown",
   "metadata": {},
   "source": [
    "#### (1) 시그모이드 함수 만들기"
   ]
  },
  {
   "cell_type": "code",
   "execution_count": 1,
   "metadata": {
    "ExecuteTime": {
     "end_time": "2023-05-04T07:45:05.012697Z",
     "start_time": "2023-05-04T07:45:04.993104Z"
    }
   },
   "outputs": [],
   "source": [
    "# numpy 라이브러리 및 그래프 라이브러리 불러오기\n",
    "import numpy as np\n",
    "import matplotlib.pyplot as plt"
   ]
  },
  {
   "cell_type": "code",
   "execution_count": 3,
   "metadata": {
    "ExecuteTime": {
     "end_time": "2023-05-04T07:45:05.560440Z",
     "start_time": "2023-05-04T07:45:05.550431Z"
    }
   },
   "outputs": [],
   "source": [
    "# Sigmoid 함수 작성하기\n",
    "def sigmoid(x):\n",
    "    # nnumpy.exp() 함수는 밑이 자연상수 e인 지수함수(e^x)로 변환\n",
    "    return 1 / (1 + np.exp(-x)) "
   ]
  },
  {
   "cell_type": "code",
   "execution_count": 4,
   "metadata": {
    "ExecuteTime": {
     "end_time": "2023-05-04T07:45:06.113146Z",
     "start_time": "2023-05-04T07:45:06.092401Z"
    }
   },
   "outputs": [],
   "source": [
    "# 함수 테스트용 데이터 생성하기\n",
    "test = np.array([-1, 0, 1])"
   ]
  },
  {
   "cell_type": "code",
   "execution_count": null,
   "metadata": {
    "ExecuteTime": {
     "end_time": "2023-05-04T07:45:06.712925Z",
     "start_time": "2023-05-04T07:45:06.706150Z"
    }
   },
   "outputs": [],
   "source": [
    "# 작성된 함수 확인하기\n",
    "print(sigmoid(test))"
   ]
  },
  {
   "cell_type": "markdown",
   "metadata": {},
   "source": [
    "#### (2) 시그모이드 함수 그래프 그리기"
   ]
  },
  {
   "cell_type": "code",
   "execution_count": null,
   "metadata": {
    "ExecuteTime": {
     "end_time": "2023-05-04T07:45:07.797372Z",
     "start_time": "2023-05-04T07:45:07.779050Z"
    }
   },
   "outputs": [],
   "source": [
    "# 그래프 적용을 위한 데이터 만들기\n",
    "sigmoid_x = range(-6, 7)\n",
    "sigmoid_y = sigmoid(np.array(sigmoid_x))"
   ]
  },
  {
   "cell_type": "code",
   "execution_count": null,
   "metadata": {
    "ExecuteTime": {
     "end_time": "2023-05-04T07:45:08.670597Z",
     "start_time": "2023-05-04T07:45:08.389832Z"
    }
   },
   "outputs": [],
   "source": [
    "# 선 그래프 그리기\n",
    "plt.plot(sigmoid_x , sigmoid_y, color = 'blue',linewidth = 0.5)\n",
    "# 백 그라운드 모눈 종이 설정하기\n",
    "plt.rcParams['axes.grid'] = True\n",
    "# 라인 굵기 설정하기\n",
    "plt.axvline(x=0, color='black', linewidth=3)\n",
    "# y 축 범위 설정하기 \n",
    "plt.yticks([0,0.5,1])\n",
    "plt.show()"
   ]
  },
  {
   "cell_type": "markdown",
   "metadata": {},
   "source": [
    "### 2) 로지스틱 회귀 실습하기"
   ]
  },
  {
   "cell_type": "markdown",
   "metadata": {},
   "source": [
    "#### (1) 데이터 구성하기"
   ]
  },
  {
   "cell_type": "code",
   "execution_count": 8,
   "metadata": {
    "ExecuteTime": {
     "end_time": "2023-05-04T07:45:10.425445Z",
     "start_time": "2023-05-04T07:45:10.408385Z"
    }
   },
   "outputs": [],
   "source": [
    "# 학습 데이터 생성하기\n",
    "x_train = [3,4,5,6,7,8,9,10,11,12,13,14,15,16,17]\n",
    "y_train = [0,0,0,0,0,0,0,1,1,1,1,1,1,1,1]\n",
    "# 추론을 위한 데이터 생성하기\n",
    "x_test = [0,1,2,18,19]\n",
    "y_test =  [0,0,0,1,1]\n",
    "\n",
    "# 학습 데이터에 대해 numpy로 변경 및 행을 열로 변경하기\n",
    "x_train = np.array(x_train).reshape([-1,1])\n",
    "y_train = np.array(y_train)\n",
    "# 추론 데이터에 대해 numpy로 변경 및 행을 열로 변경하기\n",
    "x_test = np.array(x_test).reshape([-1,1])\n",
    "y_test = np.array(y_test)"
   ]
  },
  {
   "cell_type": "code",
   "execution_count": null,
   "metadata": {
    "ExecuteTime": {
     "end_time": "2023-05-04T07:45:11.055667Z",
     "start_time": "2023-05-04T07:45:11.026410Z"
    }
   },
   "outputs": [],
   "source": [
    "# 데이터 확인하기\n",
    "print(x_train)\n",
    "print(y_train)"
   ]
  },
  {
   "cell_type": "markdown",
   "metadata": {},
   "source": [
    "#### (2) 로지스틱 회귀 학습 하기"
   ]
  },
  {
   "cell_type": "code",
   "execution_count": 10,
   "metadata": {
    "ExecuteTime": {
     "end_time": "2023-05-04T07:45:12.204377Z",
     "start_time": "2023-05-04T07:45:12.193655Z"
    }
   },
   "outputs": [],
   "source": [
    "#로지스틱 회귀 라이브러리 불러오기\n",
    "from sklearn.linear_model import LogisticRegression"
   ]
  },
  {
   "cell_type": "code",
   "execution_count": 11,
   "metadata": {
    "ExecuteTime": {
     "end_time": "2023-05-04T07:45:12.752891Z",
     "start_time": "2023-05-04T07:45:12.733879Z"
    }
   },
   "outputs": [],
   "source": [
    "# 로지스틱 회귀 생성하기\n",
    "logi_reg = LogisticRegression()"
   ]
  },
  {
   "cell_type": "code",
   "execution_count": null,
   "metadata": {
    "ExecuteTime": {
     "end_time": "2023-05-04T07:45:13.399179Z",
     "start_time": "2023-05-04T07:45:13.370761Z"
    }
   },
   "outputs": [],
   "source": [
    "# 학습하기\n",
    "logi_reg.fit(x_train, y_train)"
   ]
  },
  {
   "cell_type": "code",
   "execution_count": null,
   "metadata": {
    "ExecuteTime": {
     "end_time": "2023-05-04T07:45:14.026852Z",
     "start_time": "2023-05-04T07:45:14.011722Z"
    }
   },
   "outputs": [],
   "source": [
    "# 역산을 위한 기울기와 절편이 있는지 확인하기\n",
    "print('intercept:', logi_reg.intercept_)\n",
    "print('coef:', logi_reg.coef_)"
   ]
  },
  {
   "cell_type": "markdown",
   "metadata": {},
   "source": [
    "#### (3) 로지스틱 회귀 그래프 만들기\n"
   ]
  },
  {
   "cell_type": "code",
   "execution_count": 14,
   "metadata": {
    "ExecuteTime": {
     "end_time": "2023-05-04T07:11:17.240077Z",
     "start_time": "2023-05-04T07:11:17.217842Z"
    }
   },
   "outputs": [],
   "source": [
    "# 기울기와 절편을 수동으로 결과 만들기\n",
    "odd = [] # \n",
    "for i in x_train:\n",
    "    odd.append((logi_reg.coef_* i) + logi_reg.intercept_)\n",
    "    \n",
    "sigmoid_y= sigmoid(np.array(odd))\n",
    "sigmoid_y = sigmoid_y.reshape(-1,1)"
   ]
  },
  {
   "cell_type": "code",
   "execution_count": null,
   "metadata": {
    "ExecuteTime": {
     "end_time": "2023-05-04T07:11:17.959675Z",
     "start_time": "2023-05-04T07:11:17.639422Z"
    }
   },
   "outputs": [],
   "source": [
    "# 역산된 그래프 표시하기\n",
    "plt.scatter(x_train, y_train,color='red')\n",
    "plt.plot(np.array(x_train), sigmoid_y, color='blue')\n",
    "plt.rcParams['axes.grid'] = True \n",
    "plt.yticks([0,0.5,1])\n",
    "plt.ylim([-0.1, 1.1]) # y축의 범위: [Ymin, Ymax]     \n",
    "plt.show()"
   ]
  },
  {
   "cell_type": "markdown",
   "metadata": {},
   "source": [
    "### 3) 로지스틱 회귀와 선형회귀 비교하기"
   ]
  },
  {
   "cell_type": "markdown",
   "metadata": {},
   "source": [
    "#### (1) 선형회귀 모델링하기"
   ]
  },
  {
   "cell_type": "code",
   "execution_count": null,
   "metadata": {
    "ExecuteTime": {
     "end_time": "2023-05-04T07:11:19.064548Z",
     "start_time": "2023-05-04T07:11:19.034324Z"
    }
   },
   "outputs": [],
   "source": [
    "# 선형회귀 함수 불러오기\n",
    "from sklearn.linear_model import LinearRegression\n",
    "# 선형회귀 생성하기\n",
    "lr = LinearRegression()\n",
    "# 학습하기\n",
    "lr.fit(x_train,y_train)"
   ]
  },
  {
   "cell_type": "code",
   "execution_count": null,
   "metadata": {
    "ExecuteTime": {
     "end_time": "2023-05-04T07:11:19.538180Z",
     "start_time": "2023-05-04T07:11:19.524595Z"
    }
   },
   "outputs": [],
   "source": [
    "# 수식 완성을 위한 coef 와 intercept 확인하기\n",
    "print('intercept:', lr.intercept_)\n",
    "print('coef:', lr.coef_)"
   ]
  },
  {
   "attachments": {},
   "cell_type": "markdown",
   "metadata": {},
   "source": [
    "#### (2) 선형회귀 모델과 로지스틱 회귀 모델 비교하기"
   ]
  },
  {
   "cell_type": "code",
   "execution_count": 18,
   "metadata": {
    "ExecuteTime": {
     "end_time": "2023-05-04T07:11:20.356296Z",
     "start_time": "2023-05-04T07:11:20.344030Z"
    }
   },
   "outputs": [],
   "source": [
    "coef_intercept = x_train * lr.coef_ + lr.intercept_"
   ]
  },
  {
   "cell_type": "code",
   "execution_count": null,
   "metadata": {
    "ExecuteTime": {
     "end_time": "2023-05-04T07:11:21.297418Z",
     "start_time": "2023-05-04T07:11:20.922349Z"
    }
   },
   "outputs": [],
   "source": [
    "plt.scatter(x_train, y_train,color='red')\n",
    "plt.plot(np.array(x_train), coef_intercept, color='green')\n",
    "plt.plot(np.array(x_train), sigmoid_y, color='blue')\n",
    "plt.rcParams['axes.grid'] = True\n",
    "plt.show()\n",
    "print(logi_reg.score(x_test,y_test))\n",
    "print(lr.score(x_test,y_test))"
   ]
  },
  {
   "attachments": {},
   "cell_type": "markdown",
   "metadata": {},
   "source": [
    "### [확인 문제]"
   ]
  },
  {
   "cell_type": "code",
   "execution_count": null,
   "metadata": {
    "ExecuteTime": {
     "end_time": "2023-05-04T07:11:21.741878Z",
     "start_time": "2023-05-04T07:11:21.723241Z"
    }
   },
   "outputs": [],
   "source": [
    "# 문제 01. 정답 \n",
    "logi_pred = logi_reg.predict(np.array(9.5).reshape(-1,1))\n",
    "logi_pred"
   ]
  },
  {
   "cell_type": "code",
   "execution_count": null,
   "metadata": {
    "ExecuteTime": {
     "end_time": "2023-05-04T07:11:22.199857Z",
     "start_time": "2023-05-04T07:11:22.178266Z"
    }
   },
   "outputs": [],
   "source": [
    "lr_pred = lr.predict(np.array(9.5).reshape(-1,1))\n",
    "round(lr_pred[0])"
   ]
  },
  {
   "attachments": {},
   "cell_type": "markdown",
   "metadata": {},
   "source": [
    "## 4. 의사결정나무(Decision tree)"
   ]
  },
  {
   "cell_type": "markdown",
   "metadata": {},
   "source": [
    "### 2) 의사결정나무 실습하기"
   ]
  },
  {
   "cell_type": "markdown",
   "metadata": {},
   "source": [
    "#### (1) 데이터 준비하기"
   ]
  },
  {
   "cell_type": "code",
   "execution_count": 22,
   "metadata": {
    "ExecuteTime": {
     "end_time": "2023-05-04T07:11:23.918898Z",
     "start_time": "2023-05-04T07:11:23.912763Z"
    }
   },
   "outputs": [],
   "source": [
    "# 라이브러리 불러오기 (numpy, pandas, train_test_split)\n",
    "import numpy as np\n",
    "import pandas as pd\n",
    "from sklearn.model_selection import train_test_split"
   ]
  },
  {
   "cell_type": "code",
   "execution_count": 23,
   "metadata": {
    "ExecuteTime": {
     "end_time": "2023-05-04T07:11:29.169581Z",
     "start_time": "2023-05-04T07:11:24.235034Z"
    }
   },
   "outputs": [],
   "source": [
    "# 데이터 불러오기\n",
    "df = pd.read_csv(\"국민건강보험공단_건강검진정보_20211229.CSV\", encoding = 'cp949')\n",
    "# 트리 예시를 만들기 위해서 일부 특성만 추출\n",
    "sample_df = df[['신장(5Cm단위)','성별코드', '체중(5Kg 단위)','음주여부']]"
   ]
  },
  {
   "cell_type": "code",
   "execution_count": null,
   "metadata": {
    "ExecuteTime": {
     "end_time": "2023-05-04T07:11:31.722954Z",
     "start_time": "2023-05-04T07:11:31.696754Z"
    },
    "scrolled": true
   },
   "outputs": [],
   "source": [
    "# 샘플 데이터 중 상위 10개 추출하기\n",
    "sample_df[:10]"
   ]
  },
  {
   "cell_type": "markdown",
   "metadata": {},
   "source": [
    "#### (2) 데이터 전처리하기"
   ]
  },
  {
   "cell_type": "code",
   "execution_count": null,
   "metadata": {
    "ExecuteTime": {
     "end_time": "2023-05-04T07:11:32.579594Z",
     "start_time": "2023-05-04T07:11:32.529191Z"
    }
   },
   "outputs": [],
   "source": [
    "# info 정보로 결측치(Null) 확인하기\n",
    "print(\"Info 정보 확인\")\n",
    "sample_df.info()"
   ]
  },
  {
   "cell_type": "code",
   "execution_count": 26,
   "metadata": {
    "ExecuteTime": {
     "end_time": "2023-05-04T07:11:33.157934Z",
     "start_time": "2023-05-04T07:11:33.065686Z"
    }
   },
   "outputs": [],
   "source": [
    "# 100만개 데이터 중 결측치 196개, 결측치가 포함된 행 삭제하기\n",
    "sample = sample_df.dropna() "
   ]
  },
  {
   "cell_type": "code",
   "execution_count": null,
   "metadata": {
    "ExecuteTime": {
     "end_time": "2023-05-04T07:11:33.553276Z",
     "start_time": "2023-05-04T07:11:33.512727Z"
    }
   },
   "outputs": [],
   "source": [
    "# 결측치(Null) 다시 확인하기\n",
    "print(\"Drop 후 Info 정보 확인\")\n",
    "sample.info()"
   ]
  },
  {
   "cell_type": "code",
   "execution_count": 28,
   "metadata": {
    "ExecuteTime": {
     "end_time": "2023-05-04T07:11:36.755693Z",
     "start_time": "2023-05-04T07:11:33.945466Z"
    }
   },
   "outputs": [],
   "source": [
    "# 원-핫 인코딩을 위해 데이터를 object 형태로 변경하기\n",
    "sample = sample.astype('str')"
   ]
  },
  {
   "cell_type": "code",
   "execution_count": 29,
   "metadata": {
    "ExecuteTime": {
     "end_time": "2023-05-04T07:11:39.006119Z",
     "start_time": "2023-05-04T07:11:38.991329Z"
    }
   },
   "outputs": [],
   "source": [
    "# label(결과, Y) 생성하기\n",
    "y=sample.음주여부"
   ]
  },
  {
   "cell_type": "code",
   "execution_count": 30,
   "metadata": {
    "ExecuteTime": {
     "end_time": "2023-05-04T07:11:39.434226Z",
     "start_time": "2023-05-04T07:11:39.355566Z"
    }
   },
   "outputs": [],
   "source": [
    "# 음주 여부 학습 데이터 구성하기\n",
    "X=sample.drop('음주여부', axis=1)"
   ]
  },
  {
   "cell_type": "code",
   "execution_count": null,
   "metadata": {
    "ExecuteTime": {
     "end_time": "2023-05-04T07:11:40.019493Z",
     "start_time": "2023-05-04T07:11:39.780452Z"
    }
   },
   "outputs": [],
   "source": [
    "# label 데이터의 편향성 확인하기\n",
    "y.value_counts()\n",
    "# sample.info()"
   ]
  },
  {
   "cell_type": "code",
   "execution_count": 34,
   "metadata": {
    "ExecuteTime": {
     "end_time": "2023-05-04T07:11:40.705364Z",
     "start_time": "2023-05-04T07:11:40.233951Z"
    }
   },
   "outputs": [],
   "source": [
    "# 학습/검증 데이터 분리하기\n",
    "x_train, x_valid, y_train, y_valid = train_test_split(\n",
    "    X, y,\n",
    "    test_size=0.2,\n",
    "    shuffle=True,\n",
    "    random_state=34\n",
    ")"
   ]
  },
  {
   "cell_type": "markdown",
   "metadata": {},
   "source": [
    "#### (3) 의사결정나무 모델링하기"
   ]
  },
  {
   "cell_type": "code",
   "execution_count": 35,
   "metadata": {
    "ExecuteTime": {
     "end_time": "2023-05-04T07:11:41.712000Z",
     "start_time": "2023-05-04T07:11:41.562303Z"
    }
   },
   "outputs": [],
   "source": [
    "# 의사결정나무 모델 불러오기\n",
    "from sklearn.tree import DecisionTreeClassifier"
   ]
  },
  {
   "cell_type": "code",
   "execution_count": 36,
   "metadata": {
    "ExecuteTime": {
     "end_time": "2023-05-04T07:11:42.047798Z",
     "start_time": "2023-05-04T07:11:42.034761Z"
    }
   },
   "outputs": [],
   "source": [
    "# 의사결정나무 모델 생성하기\n",
    "dt = DecisionTreeClassifier(random_state = 1001, \n",
    "                            max_depth=2\n",
    "                           ) "
   ]
  },
  {
   "cell_type": "code",
   "execution_count": 37,
   "metadata": {
    "ExecuteTime": {
     "end_time": "2023-05-04T07:11:48.684844Z",
     "start_time": "2023-05-04T07:11:42.466801Z"
    }
   },
   "outputs": [],
   "source": [
    "# 의사결정나무 학습하기\n",
    "dt_model = dt.fit(x_train, y_train)"
   ]
  },
  {
   "cell_type": "code",
   "execution_count": null,
   "metadata": {
    "ExecuteTime": {
     "end_time": "2023-05-04T07:12:00.366561Z",
     "start_time": "2023-05-04T07:11:51.367679Z"
    }
   },
   "outputs": [],
   "source": [
    "# 학습 데이터 정확도 확인하기\n",
    "print(\"학습 정확도 = \", dt_model.score(x_train, y_train))"
   ]
  },
  {
   "cell_type": "code",
   "execution_count": null,
   "metadata": {
    "ExecuteTime": {
     "end_time": "2023-05-04T07:12:07.424860Z",
     "start_time": "2023-05-04T07:12:05.610374Z"
    }
   },
   "outputs": [],
   "source": [
    "# 검증 데이터 정확도 확인하기\n",
    "print(\"검증 정확도 = \", dt_model.score(x_valid, y_valid))"
   ]
  },
  {
   "cell_type": "markdown",
   "metadata": {},
   "source": [
    "#### (4) 의사결정나무 그래프 그리기"
   ]
  },
  {
   "cell_type": "code",
   "execution_count": 40,
   "metadata": {
    "ExecuteTime": {
     "end_time": "2023-05-04T07:12:43.869705Z",
     "start_time": "2023-05-04T07:12:43.858760Z"
    }
   },
   "outputs": [],
   "source": [
    "# 그래프 라이브러리(matplotlib.pyplot) 불러오기\n",
    "import matplotlib.pyplot as plt"
   ]
  },
  {
   "cell_type": "code",
   "execution_count": 85,
   "metadata": {
    "ExecuteTime": {
     "end_time": "2023-05-04T07:12:47.608900Z",
     "start_time": "2023-05-04T07:12:47.590776Z"
    }
   },
   "outputs": [],
   "source": [
    "# 트리 모양 그래프 작성을 위한 라이브러리 설치하기\n",
    "#!pip install graphviz"
   ]
  },
  {
   "cell_type": "code",
   "execution_count": null,
   "metadata": {
    "ExecuteTime": {
     "end_time": "2023-05-04T07:12:48.832003Z",
     "start_time": "2023-05-04T07:12:48.748392Z"
    }
   },
   "outputs": [],
   "source": [
    "# 그래프 라이브러리(grphviz) 불러오기\n",
    "import graphviz\n",
    "# 사이킷런의 graphviz 지원 모듈 불러오기\n",
    "from sklearn.tree import export_graphviz\n",
    "# 그래프 생성하기\n",
    "tree_graph = graphviz.Source(export_graphviz(dt_model,\n",
    "                                class_names=[\"X\",\"O\"],\n",
    "                                feature_names=[ 'height', 'sex','weight'],\n",
    "                                impurity=True,\n",
    "                                filled=True))"
   ]
  },
  {
   "cell_type": "code",
   "execution_count": null,
   "metadata": {
    "ExecuteTime": {
     "end_time": "2023-05-04T07:12:50.382640Z",
     "start_time": "2023-05-04T07:12:49.933231Z"
    }
   },
   "outputs": [],
   "source": [
    "# 그래프 출력하기\n",
    "# (참고) 에러 발생시 사이트 참조 : https://highschoolfree.tistory.com/76\n",
    "tree_graph"
   ]
  },
  {
   "cell_type": "code",
   "execution_count": null,
   "metadata": {
    "ExecuteTime": {
     "end_time": "2023-05-04T07:12:51.642865Z",
     "start_time": "2023-05-04T07:12:51.268841Z"
    }
   },
   "outputs": [],
   "source": [
    "# 그래프 파일 저장하기\n",
    "tree_graph.render('tree_depth5', format=\"png\")"
   ]
  },
  {
   "cell_type": "markdown",
   "metadata": {},
   "source": [
    "### 3) 불순도 알아보기"
   ]
  },
  {
   "cell_type": "code",
   "execution_count": 44,
   "metadata": {
    "ExecuteTime": {
     "end_time": "2023-05-04T07:12:52.863683Z",
     "start_time": "2023-05-04T07:12:52.850781Z"
    }
   },
   "outputs": [],
   "source": [
    "# 불순도 함수 생성하기\n",
    "def gini(x):\n",
    "    n = x.sum() \n",
    "    gini_sum = 0\n",
    "    for key in x.keys():\n",
    "        gini_sum = gini_sum  +  (x[key] / n ) * (x[key] / n )\n",
    "    gini = 1 - gini_sum\n",
    "    return gini"
   ]
  },
  {
   "cell_type": "code",
   "execution_count": 45,
   "metadata": {
    "ExecuteTime": {
     "end_time": "2023-05-04T07:12:53.340737Z",
     "start_time": "2023-05-04T07:12:53.327271Z"
    }
   },
   "outputs": [],
   "source": [
    "# 데이터 준비하기(불순도 예시)\n",
    "과일바구니1 = ['사과']*9\n",
    "과일바구니2 = ['사과', '바나나','사과', '바나나','바나나','바나나', '복숭아','복숭아','복숭아']\n",
    "과일바구니3 = ['사과', '바나나','사과', '바나나','사과','복숭아', '복숭아','사과','복숭아']"
   ]
  },
  {
   "cell_type": "code",
   "execution_count": null,
   "metadata": {
    "ExecuteTime": {
     "end_time": "2023-05-04T07:12:53.782850Z",
     "start_time": "2023-05-04T07:12:53.746554Z"
    }
   },
   "outputs": [],
   "source": [
    "print(round(gini(pd.DataFrame(과일바구니1).value_counts()),3))\n",
    "print(round(gini(pd.DataFrame(과일바구니2).value_counts()),3))\n",
    "print(round(gini(pd.DataFrame(과일바구니3).value_counts()),3))"
   ]
  },
  {
   "attachments": {},
   "cell_type": "markdown",
   "metadata": {},
   "source": [
    "### [확인 문제]"
   ]
  },
  {
   "attachments": {},
   "cell_type": "markdown",
   "metadata": {},
   "source": [
    "#### 1. 앞에서 활용했던 데이터를 이용하여 max_depth 파라미터를 1,15,30으로 각각의 모델을 만들어 보고 validation Score가 가장 작은 max_depth 수치를 작성하시오.(단, random_state는 1001 고정)\n"
   ]
  },
  {
   "cell_type": "code",
   "execution_count": null,
   "metadata": {
    "ExecuteTime": {
     "end_time": "2023-05-04T07:13:47.891344Z",
     "start_time": "2023-05-04T07:12:55.026746Z"
    }
   },
   "outputs": [],
   "source": [
    "#for 문제 직접 리스트를 넣어서 구현하기\n",
    "for depth in [1,15,30]:\n",
    "    dt = DecisionTreeClassifier(random_state = 1001, \n",
    "                            max_depth=depth,\n",
    "                           ) \n",
    "    dt_model = dt.fit(x_train, y_train)\n",
    "    print(f'''max_depth {depth}일때 train 정확도{dt_model.score(x_train, y_train):.2f}, validation 정확도{dt_model.score(x_valid, y_valid):.2f}''')"
   ]
  },
  {
   "attachments": {},
   "cell_type": "markdown",
   "metadata": {},
   "source": [
    "#### 2. max_feature 파라미터를 1,2,3으로 각각 모델을 만들고 validation Score가 가장 높은 max_feature를 작성하세요. (단, random_state는 1001로 고정하고, max_depth에 대해 앞에서 가장 작은 max_depth 고정 후 결과 산출)"
   ]
  },
  {
   "cell_type": "code",
   "execution_count": null,
   "metadata": {
    "ExecuteTime": {
     "end_time": "2023-05-04T07:14:49.620487Z",
     "start_time": "2023-05-04T07:13:55.217332Z"
    }
   },
   "outputs": [],
   "source": [
    "# 리스트를 별도로 만들어서 max_feature 변경하고 결과 산출\n",
    "repeat_list = [1,2,3]\n",
    "for feature in repeat_list:\n",
    "    dt = DecisionTreeClassifier(random_state = 1001,\n",
    "                                max_depth=1,\n",
    "                                max_features = feature,\n",
    "                           )\n",
    "    dt_model = dt.fit(x_train, y_train)\n",
    "    print(f'''max_feature {feature}일때 train 정확도{dt_model.score(x_train, y_train):.2f}, validation 정확도{dt_model.score(x_valid, y_valid):.2f}''')"
   ]
  },
  {
   "attachments": {},
   "cell_type": "markdown",
   "metadata": {},
   "source": [
    "## 6. 랜덤포레스트(Random Forest)"
   ]
  },
  {
   "cell_type": "markdown",
   "metadata": {},
   "source": [
    "### 2) 랜덤포레스트 실습하기"
   ]
  },
  {
   "cell_type": "markdown",
   "metadata": {},
   "source": [
    "#### (1) 데이터 준비하기"
   ]
  },
  {
   "cell_type": "code",
   "execution_count": 94,
   "metadata": {
    "ExecuteTime": {
     "end_time": "2023-05-04T07:17:05.072059Z",
     "start_time": "2023-05-04T07:17:05.057901Z"
    }
   },
   "outputs": [],
   "source": [
    "# tensorflow 라이브러리 설치하기\n",
    "#!pip install tensorflow --user"
   ]
  },
  {
   "cell_type": "code",
   "execution_count": null,
   "metadata": {
    "ExecuteTime": {
     "end_time": "2023-05-04T07:17:16.817480Z",
     "start_time": "2023-05-04T07:17:06.630110Z"
    }
   },
   "outputs": [],
   "source": [
    "# tensorflow에서 제공하는 데이터셋 mnist 불러오기\n",
    "from tensorflow.keras.datasets.mnist import load_data"
   ]
  },
  {
   "cell_type": "code",
   "execution_count": null,
   "metadata": {
    "ExecuteTime": {
     "end_time": "2023-05-04T07:17:24.490067Z",
     "start_time": "2023-05-04T07:17:21.425173Z"
    }
   },
   "outputs": [],
   "source": [
    "# load_data로 데이터 할당하기\n",
    "(x_train, y_train), (x_test, y_test) = load_data()"
   ]
  },
  {
   "cell_type": "code",
   "execution_count": null,
   "metadata": {
    "ExecuteTime": {
     "end_time": "2023-05-04T07:17:24.993688Z",
     "start_time": "2023-05-04T07:17:24.972332Z"
    }
   },
   "outputs": [],
   "source": [
    "# 손 글씨 데이터는 이미지라 3차원 행렬\n",
    "print(\"변경 전 = \",x_train.shape)"
   ]
  },
  {
   "cell_type": "code",
   "execution_count": 52,
   "metadata": {
    "ExecuteTime": {
     "end_time": "2023-05-04T07:17:25.542596Z",
     "start_time": "2023-05-04T07:17:25.523407Z"
    }
   },
   "outputs": [],
   "source": [
    "# 3차원 행렬을 2차원으로 변경하기\n",
    "X_train = x_train.reshape(-1, 784) \n",
    "X_test = x_test.reshape(-1, 784)"
   ]
  },
  {
   "cell_type": "code",
   "execution_count": null,
   "metadata": {
    "ExecuteTime": {
     "end_time": "2023-05-04T07:17:26.135352Z",
     "start_time": "2023-05-04T07:17:26.124196Z"
    }
   },
   "outputs": [],
   "source": [
    "# 변경 결과 확인하기\n",
    "print(\"변경 후 = \",X_train.shape)"
   ]
  },
  {
   "cell_type": "markdown",
   "metadata": {},
   "source": [
    "#### (2) 의사결정나무 모델링하기"
   ]
  },
  {
   "cell_type": "code",
   "execution_count": 54,
   "metadata": {
    "ExecuteTime": {
     "end_time": "2023-05-04T07:17:27.490865Z",
     "start_time": "2023-05-04T07:17:27.056816Z"
    }
   },
   "outputs": [],
   "source": [
    "# 필요 라이브러리 불러오기(의사결정나무, 랜덤포레스트)\n",
    "from sklearn.tree import DecisionTreeClassifier\n",
    "from sklearn.ensemble import RandomForestClassifier"
   ]
  },
  {
   "cell_type": "code",
   "execution_count": null,
   "metadata": {
    "ExecuteTime": {
     "end_time": "2023-05-04T07:18:14.368376Z",
     "start_time": "2023-05-04T07:17:28.945952Z"
    }
   },
   "outputs": [],
   "source": [
    "# 의사결정나무 학습하기\n",
    "dct = DecisionTreeClassifier(random_state=0)\n",
    "dct.fit(X_train, y_train)"
   ]
  },
  {
   "cell_type": "code",
   "execution_count": 56,
   "metadata": {
    "ExecuteTime": {
     "end_time": "2023-05-04T07:19:26.813304Z",
     "start_time": "2023-05-04T07:19:26.523596Z"
    }
   },
   "outputs": [],
   "source": [
    "# 의사결정나무 결과확인하기\n",
    "acc_train_dct = dct.score(X_train,y_train)\n",
    "acc_test_dct = dct.score(X_test,y_test)"
   ]
  },
  {
   "cell_type": "code",
   "execution_count": null,
   "metadata": {
    "ExecuteTime": {
     "end_time": "2023-05-04T07:19:27.073803Z",
     "start_time": "2023-05-04T07:19:27.044258Z"
    }
   },
   "outputs": [],
   "source": [
    "print(f'''학습결과 = {acc_train_dct},검증결과 = {acc_test_dct} ''')"
   ]
  },
  {
   "cell_type": "markdown",
   "metadata": {},
   "source": [
    "#### (3) 랜덤포레스트 모델링 및 결과 비교하기"
   ]
  },
  {
   "cell_type": "code",
   "execution_count": null,
   "metadata": {
    "ExecuteTime": {
     "end_time": "2023-05-04T07:21:12.636605Z",
     "start_time": "2023-05-04T07:19:27.932411Z"
    }
   },
   "outputs": [],
   "source": [
    "# 랜덤포레스트 학습하기\n",
    "rfc = RandomForestClassifier(random_state=0)\n",
    "rfc.fit(X_train, y_train)"
   ]
  },
  {
   "cell_type": "code",
   "execution_count": 59,
   "metadata": {
    "ExecuteTime": {
     "end_time": "2023-05-04T07:22:34.171830Z",
     "start_time": "2023-05-04T07:22:28.843756Z"
    }
   },
   "outputs": [],
   "source": [
    "# 랜덤포레스트 결과 보기\n",
    "acc_train_rfc = rfc.score(X_train,y_train)\n",
    "acc_test_rfc = rfc.score(X_test,y_test)"
   ]
  },
  {
   "cell_type": "code",
   "execution_count": null,
   "metadata": {
    "ExecuteTime": {
     "end_time": "2023-05-04T07:23:29.109293Z",
     "start_time": "2023-05-04T07:23:29.092123Z"
    }
   },
   "outputs": [],
   "source": [
    "# 학습 결과 수치로 출력하기\n",
    "print(f\"\"\"의사결정나무: train_acc = {round(acc_train_dct,3)}, test_acc = {round(acc_test_dct,3)}\"\"\")\n",
    "print(f\"\"\"랜덤포레스트: train_acc = {round(acc_train_rfc,3)}, test_acc = {round(acc_test_rfc,3)}\"\"\")"
   ]
  },
  {
   "cell_type": "code",
   "execution_count": null,
   "metadata": {
    "ExecuteTime": {
     "end_time": "2023-05-04T07:23:29.766233Z",
     "start_time": "2023-05-04T07:23:29.447884Z"
    }
   },
   "outputs": [],
   "source": [
    "# 랜덤포레스트 결과를 토대로 비교 그래프 그리기\n",
    "import matplotlib.pyplot as plt\n",
    "# x 축 정의하기\n",
    "acc_list_x = ['dct_train', 'dct_test', 'rfc_train', 'rfc_test']\n",
    "# y 축 정의\n",
    "acc_list_y = [acc_train_dct, acc_test_dct, acc_train_rfc, acc_test_rfc]\n",
    "# 막대그래프 차트 색 정의하기\n",
    "colors = ['orange', 'orange' , 'blue', 'blue']\n",
    "# 막대그래프 설정하기\n",
    "plt.bar(acc_list_x, acc_list_y, color=colors)\n",
    "# 화면 출력하기\n",
    "plt.show()"
   ]
  },
  {
   "cell_type": "markdown",
   "metadata": {},
   "source": [
    "### 3) 랜덤포레스트와 의사결정나무 비교하기"
   ]
  },
  {
   "cell_type": "code",
   "execution_count": null,
   "metadata": {
    "ExecuteTime": {
     "end_time": "2023-05-04T07:24:24.985733Z",
     "start_time": "2023-05-04T07:23:35.682775Z"
    }
   },
   "outputs": [],
   "source": [
    "# 의사결정나무 결과와 동일하게 랜덤포레스트 구성하기\n",
    "rft = RandomForestClassifier(\n",
    "    random_state=0, \n",
    "    # 나무 개수를 1개로 설정하기\n",
    "    n_estimators=1,\n",
    "    # max_feature는 의사결정나무 기준으로 변경하기\n",
    "    max_features=None,\n",
    "    # 부트스트랩 샘플링은 OFF하기\n",
    "    bootstrap=False,\n",
    ")\n",
    "rft.fit(X_train, y_train)"
   ]
  },
  {
   "cell_type": "code",
   "execution_count": 63,
   "metadata": {
    "ExecuteTime": {
     "end_time": "2023-05-04T07:24:29.188246Z",
     "start_time": "2023-05-04T07:24:28.638715Z"
    }
   },
   "outputs": [],
   "source": [
    "# 학습 결과 저장하기\n",
    "acc_train_rfc = rft.score(X_train,y_train)\n",
    "acc_test_rfc = rft.score(X_test,y_test)\n",
    "acc_train_dct = dct.score(X_train,y_train)\n",
    "acc_test_dct = dct.score(X_test,y_test)"
   ]
  },
  {
   "cell_type": "code",
   "execution_count": null,
   "metadata": {
    "ExecuteTime": {
     "end_time": "2023-05-04T07:24:29.827077Z",
     "start_time": "2023-05-04T07:24:29.803726Z"
    },
    "scrolled": true
   },
   "outputs": [],
   "source": [
    "#의사결정나무 & 랜덤포레스트가 유사한 결과를 출력하는지 비교하기\n",
    "print(f\"\"\"의사결정나무: train_acc = {round(acc_train_dct,3)}, test_acc = {round(acc_test_dct,3)}\"\"\")\n",
    "print(f\"\"\"랜덤포레스트: train_acc = {round(acc_train_rfc,3)}, test_acc = {round(acc_test_rfc,3)}\"\"\")"
   ]
  },
  {
   "attachments": {},
   "cell_type": "markdown",
   "metadata": {},
   "source": [
    "### [확인 문제]"
   ]
  },
  {
   "attachments": {},
   "cell_type": "markdown",
   "metadata": {},
   "source": [
    "#### 1. Max_features 의 값을 40, 50, 60 으로 변경해보고 가장 좋은 결과값을 작성 하세요. (단, random_state는 0으로 고정)"
   ]
  },
  {
   "cell_type": "code",
   "execution_count": null,
   "metadata": {
    "ExecuteTime": {
     "end_time": "2023-05-04T07:26:39.350154Z",
     "start_time": "2023-05-04T07:24:45.012511Z"
    }
   },
   "outputs": [],
   "source": [
    "max_features = [40,50,60]\n",
    "for max_feature in max_features:\n",
    "    print(max_feature)\n",
    "    rfc = RandomForestClassifier(max_features = max_feature,\n",
    "                                 n_jobs= -1, \n",
    "                                 random_state = 0)\n",
    "    rfc.fit(X_train, y_train)\n",
    "    acc_train_dct = rfc.score(X_train,y_train)\n",
    "    acc_test_dct = rfc.score(X_test,y_test)\n",
    "    print(f\"\"\"max_features {max_feature}일 때 train_acc ={round(acc_train_dct,3)}, test_acc = {round(acc_test_dct,3)}\"\"\")"
   ]
  },
  {
   "attachments": {},
   "cell_type": "markdown",
   "metadata": {},
   "source": [
    "## 7. 그라디언트 부스팅 (gradient boosting)"
   ]
  },
  {
   "cell_type": "markdown",
   "metadata": {},
   "source": [
    "### 2) 그라디언트 부스팅 실습하기"
   ]
  },
  {
   "cell_type": "markdown",
   "metadata": {},
   "source": [
    "#### (1) 데이터 준비하기"
   ]
  },
  {
   "cell_type": "code",
   "execution_count": 66,
   "metadata": {
    "ExecuteTime": {
     "end_time": "2023-05-04T07:26:56.414848Z",
     "start_time": "2023-05-04T07:26:56.407698Z"
    }
   },
   "outputs": [],
   "source": [
    "# tensorflow에서 데이터 불러오기\n",
    "from tensorflow.keras.datasets.mnist import load_data\n",
    "# 그래프 라이브러리 불러오기\n",
    "import matplotlib.pyplot as plt"
   ]
  },
  {
   "cell_type": "code",
   "execution_count": 67,
   "metadata": {
    "ExecuteTime": {
     "end_time": "2023-05-04T07:26:57.476319Z",
     "start_time": "2023-05-04T07:26:56.826442Z"
    }
   },
   "outputs": [],
   "source": [
    "# 데이터 불러오기\n",
    "(x_train, y_train), (x_test, y_test) = load_data()\n",
    "\n",
    "# 학습시간 고려해서 2000건 데이터만 사용하기\n",
    "x_train = x_train[:2000]\n",
    "y_train = y_train[:2000]\n",
    "x_test = x_test[:2000]\n",
    "y_test = y_test[:2000]"
   ]
  },
  {
   "cell_type": "code",
   "execution_count": null,
   "metadata": {
    "ExecuteTime": {
     "end_time": "2023-05-04T07:27:03.605749Z",
     "start_time": "2023-05-04T07:27:03.253847Z"
    }
   },
   "outputs": [],
   "source": [
    "# 샘플 데이터 확인하기\n",
    "plt.imshow(x_train[7], cmap='Greys')\n",
    "plt.show()"
   ]
  },
  {
   "cell_type": "code",
   "execution_count": null,
   "metadata": {
    "ExecuteTime": {
     "end_time": "2023-05-04T07:27:04.551918Z",
     "start_time": "2023-05-04T07:27:04.227243Z"
    }
   },
   "outputs": [],
   "source": [
    "# 샘플 데이터 확인하기\n",
    "plt.imshow(x_train[1], cmap='Greys')\n",
    "plt.show()"
   ]
  },
  {
   "cell_type": "code",
   "execution_count": 70,
   "metadata": {
    "ExecuteTime": {
     "end_time": "2023-05-04T07:27:32.526844Z",
     "start_time": "2023-05-04T07:27:32.506002Z"
    }
   },
   "outputs": [],
   "source": [
    "# 학습을 위한 2차원 행렬로 변경하기\n",
    "X_train = x_train.reshape(-1, 784)\n",
    "X_test = x_test.reshape(-1, 784)"
   ]
  },
  {
   "cell_type": "markdown",
   "metadata": {},
   "source": [
    "#### (2) 알고리즘 별 학습 및 결과 비교하기"
   ]
  },
  {
   "cell_type": "code",
   "execution_count": 71,
   "metadata": {
    "ExecuteTime": {
     "end_time": "2023-05-04T07:27:33.686192Z",
     "start_time": "2023-05-04T07:27:33.666201Z"
    }
   },
   "outputs": [],
   "source": [
    "# 의사결정나무, 랜덤포레스트, 그라디언트부스팅 라이브러리 불러오기\n",
    "from sklearn.tree import DecisionTreeClassifier\n",
    "from sklearn.ensemble import RandomForestClassifier\n",
    "from sklearn.ensemble import GradientBoostingClassifier"
   ]
  },
  {
   "cell_type": "code",
   "execution_count": null,
   "metadata": {
    "ExecuteTime": {
     "end_time": "2023-05-04T07:27:35.026536Z",
     "start_time": "2023-05-04T07:27:34.337797Z"
    }
   },
   "outputs": [],
   "source": [
    "# 의사결정나무 불러오기 및 학습하기\n",
    "dct = DecisionTreeClassifier(random_state=0)\n",
    "dct.fit(X_train, y_train)"
   ]
  },
  {
   "cell_type": "code",
   "execution_count": 73,
   "metadata": {
    "ExecuteTime": {
     "end_time": "2023-05-04T07:27:36.775228Z",
     "start_time": "2023-05-04T07:27:36.745855Z"
    }
   },
   "outputs": [],
   "source": [
    "# 의사결정나무 학습 결과 저장하기\n",
    "acc_train_dct = dct.score(X_train,y_train)\n",
    "acc_test_dct = dct.score(X_test,y_test)"
   ]
  },
  {
   "cell_type": "code",
   "execution_count": null,
   "metadata": {
    "ExecuteTime": {
     "end_time": "2023-05-04T07:27:39.947643Z",
     "start_time": "2023-05-04T07:27:37.283557Z"
    }
   },
   "outputs": [],
   "source": [
    "# 랜덤포레스트 불러오기 및 학습하기\n",
    "rfc = RandomForestClassifier(random_state=0)\n",
    "rfc.fit(X_train, y_train)"
   ]
  },
  {
   "cell_type": "code",
   "execution_count": 75,
   "metadata": {
    "ExecuteTime": {
     "end_time": "2023-05-04T07:27:42.323873Z",
     "start_time": "2023-05-04T07:27:42.026444Z"
    }
   },
   "outputs": [],
   "source": [
    "# 랜덤포레스트 학습 결과 저장하기\n",
    "acc_train_rfc = rfc.score(X_train,y_train)\n",
    "acc_test_rfc = rfc.score(X_test,y_test)"
   ]
  },
  {
   "cell_type": "code",
   "execution_count": null,
   "metadata": {
    "ExecuteTime": {
     "end_time": "2023-05-04T07:31:41.841362Z",
     "start_time": "2023-05-04T07:27:44.456281Z"
    }
   },
   "outputs": [],
   "source": [
    "# 그라디언트부스팅 불러오기 및 학습하기\n",
    "gbc = GradientBoostingClassifier(random_state=0, verbose=1)\n",
    "gbc.fit(X_train, y_train)"
   ]
  },
  {
   "cell_type": "code",
   "execution_count": 77,
   "metadata": {
    "ExecuteTime": {
     "end_time": "2023-05-04T07:33:01.859430Z",
     "start_time": "2023-05-04T07:33:01.571677Z"
    }
   },
   "outputs": [],
   "source": [
    "# 그라디언트부스팅 학습 결과 저장하기\n",
    "acc_train_gbc = gbc.score(X_train,y_train)\n",
    "acc_test_gbc = gbc.score(X_test,y_test)"
   ]
  },
  {
   "cell_type": "code",
   "execution_count": null,
   "metadata": {
    "ExecuteTime": {
     "end_time": "2023-05-04T07:33:04.385602Z",
     "start_time": "2023-05-04T07:33:04.371972Z"
    }
   },
   "outputs": [],
   "source": [
    "# 각 알고리즘별 성능 비교하기\n",
    "print(f\"\"\"의사결정나무: train_acc = {round(acc_train_dct,3)}, test_acc = {round(acc_test_dct,3)}\"\"\")\n",
    "print(f\"\"\"랜덤포레스트: train_acc = {round(acc_train_rfc,3)}, test_acc = {round(acc_test_rfc,3)}\"\"\")\n",
    "print(f\"\"\"그라디언트부스팅: train_acc = {round(acc_train_gbc,3)}, test_acc = {round(acc_test_gbc,3)}\"\"\")"
   ]
  },
  {
   "cell_type": "code",
   "execution_count": null,
   "metadata": {
    "ExecuteTime": {
     "end_time": "2023-05-04T07:33:05.497567Z",
     "start_time": "2023-05-04T07:33:05.123441Z"
    }
   },
   "outputs": [],
   "source": [
    "# 비교 그래프 그리기\n",
    "import matplotlib.pyplot as plt\n",
    "acc_list_x = ['dct_train', 'dct_test', 'rfc_train', 'rfc_test', 'gbc_train', 'gbc_test', ]\n",
    "acc_list_y = [acc_train_dct, acc_test_dct, acc_train_rfc, acc_test_rfc, acc_train_gbc, acc_test_gbc]\n",
    "colors = ['orange', 'orange' , 'blue', 'blue', 'red', 'red']\n",
    "plt.bar(acc_list_x,acc_list_y, color=colors)\n",
    "plt.ylim([0.8,1.0])\n",
    "plt.show()"
   ]
  },
  {
   "attachments": {},
   "cell_type": "markdown",
   "metadata": {},
   "source": [
    "### [확인 문제]"
   ]
  },
  {
   "attachments": {},
   "cell_type": "markdown",
   "metadata": {},
   "source": [
    "#### 1. 그래디언트 부스팅 알고리즘으로 n_estimator를 200으로 설정(기본값은 100)하여 학습시켜 보고 기존 그래디언트 부스팅 결과와 비교하는 그래프 코드를 작성하세요."
   ]
  },
  {
   "cell_type": "code",
   "execution_count": null,
   "metadata": {
    "ExecuteTime": {
     "end_time": "2023-05-04T07:41:27.256636Z",
     "start_time": "2023-05-04T07:33:27.789933Z"
    }
   },
   "outputs": [],
   "source": [
    "# 그라디언트부스팅 불러오기 및 학습하기\n",
    "gbc_200 = GradientBoostingClassifier(random_state=0, \n",
    "                                 n_estimators=200,\n",
    "                                verbose=1)\n",
    "gbc_200.fit(X_train, y_train)"
   ]
  },
  {
   "cell_type": "code",
   "execution_count": 127,
   "metadata": {
    "ExecuteTime": {
     "end_time": "2023-05-04T07:41:33.622875Z",
     "start_time": "2023-05-04T07:41:33.132161Z"
    }
   },
   "outputs": [],
   "source": [
    "# 그라디언트부스팅 학습 결과 다시 저장하기\n",
    "acc_train_gbc_200 = gbc_200.score(X_train,y_train)\n",
    "acc_test_gbc_200 = gbc_200.score(X_test,y_test)"
   ]
  },
  {
   "cell_type": "code",
   "execution_count": null,
   "metadata": {
    "ExecuteTime": {
     "end_time": "2023-05-04T07:41:34.538096Z",
     "start_time": "2023-05-04T07:41:34.523746Z"
    }
   },
   "outputs": [],
   "source": [
    "print(f\"\"\"그라디언트부스팅: train_acc = {round(acc_train_gbc,3)}, test_acc = {round(acc_test_gbc,3)}\"\"\")\n",
    "print(f\"\"\"튜닝 그라디언트부스팅: train_acc = {round(acc_train_gbc_200,3)}, test_acc = {round(acc_test_gbc_200,3)}\"\"\")"
   ]
  },
  {
   "cell_type": "code",
   "execution_count": null,
   "metadata": {
    "ExecuteTime": {
     "end_time": "2023-05-04T07:41:35.852029Z",
     "start_time": "2023-05-04T07:41:35.508163Z"
    }
   },
   "outputs": [],
   "source": [
    "import matplotlib.pyplot as plt\n",
    "acc_list_x = ['gbc_train', 'gbc_test', 'tune_gbc_train', 'tune_gbc_test', ]\n",
    "acc_list_y = [acc_train_gbc, acc_train_gbc, acc_train_gbc_200, acc_test_gbc_200]\n",
    "colors = ['orange', 'orange' , 'blue', 'blue']\n",
    "plt.bar(acc_list_x,acc_list_y, color=colors)\n",
    "plt.ylim([0.8,1.0])\n",
    "plt.show()"
   ]
  },
  {
   "cell_type": "code",
   "execution_count": null,
   "metadata": {},
   "outputs": [],
   "source": []
  },
  {
   "cell_type": "code",
   "execution_count": null,
   "metadata": {},
   "outputs": [],
   "source": []
  }
 ],
 "metadata": {
  "hide_input": false,
  "kernelspec": {
   "display_name": ".venv",
   "language": "python",
   "name": "python3"
  },
  "language_info": {
   "codemirror_mode": {
    "name": "ipython",
    "version": 3
   },
   "file_extension": ".py",
   "mimetype": "text/x-python",
   "name": "python",
   "nbconvert_exporter": "python",
   "pygments_lexer": "ipython3",
   "version": "3.12.3"
  },
  "toc": {
   "base_numbering": 1,
   "nav_menu": {},
   "number_sections": true,
   "sideBar": true,
   "skip_h1_title": false,
   "title_cell": "Table of Contents",
   "title_sidebar": "Contents",
   "toc_cell": false,
   "toc_position": {},
   "toc_section_display": true,
   "toc_window_display": false
  },
  "varInspector": {
   "cols": {
    "lenName": 16,
    "lenType": 16,
    "lenVar": 40
   },
   "kernels_config": {
    "python": {
     "delete_cmd_postfix": "",
     "delete_cmd_prefix": "del ",
     "library": "var_list.py",
     "varRefreshCmd": "print(var_dic_list())"
    },
    "r": {
     "delete_cmd_postfix": ") ",
     "delete_cmd_prefix": "rm(",
     "library": "var_list.r",
     "varRefreshCmd": "cat(var_dic_list()) "
    }
   },
   "types_to_exclude": [
    "module",
    "function",
    "builtin_function_or_method",
    "instance",
    "_Feature"
   ],
   "window_display": false
  }
 },
 "nbformat": 4,
 "nbformat_minor": 2
}
